{
 "cells": [
  {
   "cell_type": "markdown",
   "metadata": {},
   "source": [
    "# Phishing URL Detection"
   ]
  },
  {
   "cell_type": "markdown",
   "metadata": {},
   "source": [
    "## Imports"
   ]
  },
  {
   "cell_type": "code",
   "execution_count": 45,
   "metadata": {},
   "outputs": [],
   "source": [
    "import pandas as pd\n",
    "import numpy as np\n",
    "import matplotlib.pyplot as plt\n",
    "import seaborn as sns"
   ]
  },
  {
   "cell_type": "markdown",
   "metadata": {},
   "source": [
    "## Initialisation"
   ]
  },
  {
   "cell_type": "code",
   "execution_count": 46,
   "metadata": {},
   "outputs": [
    {
     "data": {
      "text/html": [
       "<div>\n",
       "<style scoped>\n",
       "    .dataframe tbody tr th:only-of-type {\n",
       "        vertical-align: middle;\n",
       "    }\n",
       "\n",
       "    .dataframe tbody tr th {\n",
       "        vertical-align: top;\n",
       "    }\n",
       "\n",
       "    .dataframe thead th {\n",
       "        text-align: right;\n",
       "    }\n",
       "</style>\n",
       "<table border=\"1\" class=\"dataframe\">\n",
       "  <thead>\n",
       "    <tr style=\"text-align: right;\">\n",
       "      <th></th>\n",
       "      <th>URL</th>\n",
       "      <th>Label</th>\n",
       "    </tr>\n",
       "  </thead>\n",
       "  <tbody>\n",
       "    <tr>\n",
       "      <th>0</th>\n",
       "      <td>nobell.it/70ffb52d079109dca5664cce6f317373782/...</td>\n",
       "      <td>bad</td>\n",
       "    </tr>\n",
       "    <tr>\n",
       "      <th>1</th>\n",
       "      <td>www.dghjdgf.com/paypal.co.uk/cycgi-bin/webscrc...</td>\n",
       "      <td>bad</td>\n",
       "    </tr>\n",
       "    <tr>\n",
       "      <th>2</th>\n",
       "      <td>serviciosbys.com/paypal.cgi.bin.get-into.herf....</td>\n",
       "      <td>bad</td>\n",
       "    </tr>\n",
       "    <tr>\n",
       "      <th>3</th>\n",
       "      <td>mail.printakid.com/www.online.americanexpress....</td>\n",
       "      <td>bad</td>\n",
       "    </tr>\n",
       "    <tr>\n",
       "      <th>4</th>\n",
       "      <td>thewhiskeydregs.com/wp-content/themes/widescre...</td>\n",
       "      <td>bad</td>\n",
       "    </tr>\n",
       "  </tbody>\n",
       "</table>\n",
       "</div>"
      ],
      "text/plain": [
       "                                                 URL Label\n",
       "0  nobell.it/70ffb52d079109dca5664cce6f317373782/...   bad\n",
       "1  www.dghjdgf.com/paypal.co.uk/cycgi-bin/webscrc...   bad\n",
       "2  serviciosbys.com/paypal.cgi.bin.get-into.herf....   bad\n",
       "3  mail.printakid.com/www.online.americanexpress....   bad\n",
       "4  thewhiskeydregs.com/wp-content/themes/widescre...   bad"
      ]
     },
     "execution_count": 46,
     "metadata": {},
     "output_type": "execute_result"
    }
   ],
   "source": [
    "df_main = pd.read_csv('dataset.csv')\n",
    "df_main.head()"
   ]
  },
  {
   "cell_type": "code",
   "execution_count": 47,
   "metadata": {},
   "outputs": [
    {
     "data": {
      "text/plain": [
       "(549346, 2)"
      ]
     },
     "execution_count": 47,
     "metadata": {},
     "output_type": "execute_result"
    }
   ],
   "source": [
    "df_main.shape"
   ]
  },
  {
   "cell_type": "markdown",
   "metadata": {},
   "source": [
    "### Dataset Balancing"
   ]
  },
  {
   "cell_type": "markdown",
   "metadata": {},
   "source": [
    "Choose first 100000 balanced rows for simplicity"
   ]
  },
  {
   "cell_type": "code",
   "execution_count": 48,
   "metadata": {},
   "outputs": [
    {
     "data": {
      "text/html": [
       "<div>\n",
       "<style scoped>\n",
       "    .dataframe tbody tr th:only-of-type {\n",
       "        vertical-align: middle;\n",
       "    }\n",
       "\n",
       "    .dataframe tbody tr th {\n",
       "        vertical-align: top;\n",
       "    }\n",
       "\n",
       "    .dataframe thead th {\n",
       "        text-align: right;\n",
       "    }\n",
       "</style>\n",
       "<table border=\"1\" class=\"dataframe\">\n",
       "  <thead>\n",
       "    <tr style=\"text-align: right;\">\n",
       "      <th></th>\n",
       "      <th>URL</th>\n",
       "      <th>Label</th>\n",
       "    </tr>\n",
       "  </thead>\n",
       "  <tbody>\n",
       "    <tr>\n",
       "      <th>0</th>\n",
       "      <td>addons.mozilla.org/seamonkey</td>\n",
       "      <td>good</td>\n",
       "    </tr>\n",
       "    <tr>\n",
       "      <th>1</th>\n",
       "      <td>meyerweb.com/eric/books/css-pocket/</td>\n",
       "      <td>good</td>\n",
       "    </tr>\n",
       "    <tr>\n",
       "      <th>2</th>\n",
       "      <td>youmix.co.uk/search?q=Billie%20Holiday%20-%20S...</td>\n",
       "      <td>good</td>\n",
       "    </tr>\n",
       "    <tr>\n",
       "      <th>3</th>\n",
       "      <td>songofthewinds.com/Playlist.htm</td>\n",
       "      <td>good</td>\n",
       "    </tr>\n",
       "    <tr>\n",
       "      <th>4</th>\n",
       "      <td>h30097.www3.hp.com/unix/security-download.html</td>\n",
       "      <td>good</td>\n",
       "    </tr>\n",
       "  </tbody>\n",
       "</table>\n",
       "</div>"
      ],
      "text/plain": [
       "                                                 URL Label\n",
       "0                       addons.mozilla.org/seamonkey  good\n",
       "1                meyerweb.com/eric/books/css-pocket/  good\n",
       "2  youmix.co.uk/search?q=Billie%20Holiday%20-%20S...  good\n",
       "3                    songofthewinds.com/Playlist.htm  good\n",
       "4     h30097.www3.hp.com/unix/security-download.html  good"
      ]
     },
     "execution_count": 48,
     "metadata": {},
     "output_type": "execute_result"
    }
   ],
   "source": [
    "df = pd.concat([df_main[df_main['Label']=='good'].sample(50000,random_state=123),df_main[df_main['Label']=='bad'].sample(50000,random_state=123)],ignore_index=True)\n",
    "df.head()"
   ]
  },
  {
   "cell_type": "markdown",
   "metadata": {},
   "source": [
    "### Label Encoding"
   ]
  },
  {
   "cell_type": "code",
   "execution_count": 49,
   "metadata": {},
   "outputs": [
    {
     "name": "stderr",
     "output_type": "stream",
     "text": [
      "C:\\Users\\Rishabh\\AppData\\Local\\Temp\\ipykernel_40528\\3477560693.py:1: FutureWarning: Downcasting behavior in `replace` is deprecated and will be removed in a future version. To retain the old behavior, explicitly call `result.infer_objects(copy=False)`. To opt-in to the future behavior, set `pd.set_option('future.no_silent_downcasting', True)`\n",
      "  df['Label'] = df['Label'].replace(to_replace=['good','bad'],value=[0,1])\n"
     ]
    },
    {
     "data": {
      "text/html": [
       "<div>\n",
       "<style scoped>\n",
       "    .dataframe tbody tr th:only-of-type {\n",
       "        vertical-align: middle;\n",
       "    }\n",
       "\n",
       "    .dataframe tbody tr th {\n",
       "        vertical-align: top;\n",
       "    }\n",
       "\n",
       "    .dataframe thead th {\n",
       "        text-align: right;\n",
       "    }\n",
       "</style>\n",
       "<table border=\"1\" class=\"dataframe\">\n",
       "  <thead>\n",
       "    <tr style=\"text-align: right;\">\n",
       "      <th></th>\n",
       "      <th>URL</th>\n",
       "      <th>Label</th>\n",
       "    </tr>\n",
       "  </thead>\n",
       "  <tbody>\n",
       "    <tr>\n",
       "      <th>20626</th>\n",
       "      <td>roadsideamerica.com/hotels_motels/hotelinfo/13...</td>\n",
       "      <td>0</td>\n",
       "    </tr>\n",
       "    <tr>\n",
       "      <th>92747</th>\n",
       "      <td>superofertassrl.com.ar/media/.../a/</td>\n",
       "      <td>1</td>\n",
       "    </tr>\n",
       "    <tr>\n",
       "      <th>26566</th>\n",
       "      <td>monmouth-county.com/</td>\n",
       "      <td>0</td>\n",
       "    </tr>\n",
       "    <tr>\n",
       "      <th>39622</th>\n",
       "      <td>absoluteastronomy.com/topics/The_Everly_Brothers</td>\n",
       "      <td>0</td>\n",
       "    </tr>\n",
       "    <tr>\n",
       "      <th>79620</th>\n",
       "      <td>social-plugins.net/framework/models/doc/doc/do...</td>\n",
       "      <td>1</td>\n",
       "    </tr>\n",
       "  </tbody>\n",
       "</table>\n",
       "</div>"
      ],
      "text/plain": [
       "                                                     URL  Label\n",
       "20626  roadsideamerica.com/hotels_motels/hotelinfo/13...      0\n",
       "92747                superofertassrl.com.ar/media/.../a/      1\n",
       "26566                               monmouth-county.com/      0\n",
       "39622   absoluteastronomy.com/topics/The_Everly_Brothers      0\n",
       "79620  social-plugins.net/framework/models/doc/doc/do...      1"
      ]
     },
     "execution_count": 49,
     "metadata": {},
     "output_type": "execute_result"
    }
   ],
   "source": [
    "df['Label'] = df['Label'].replace(to_replace=['good','bad'],value=[0,1])\n",
    "df.sample(5)"
   ]
  },
  {
   "cell_type": "markdown",
   "metadata": {},
   "source": [
    "## Preprocessing"
   ]
  },
  {
   "cell_type": "markdown",
   "metadata": {},
   "source": [
    "### Add Fields"
   ]
  },
  {
   "cell_type": "code",
   "execution_count": 50,
   "metadata": {},
   "outputs": [
    {
     "name": "stdout",
     "output_type": "stream",
     "text": [
      "#\n",
      "0    99856\n",
      "1      137\n",
      "2        4\n",
      "3        2\n",
      "4        1\n",
      "Name: count, dtype: int64\n",
      "$\n",
      "0    99967\n",
      "1       16\n",
      "2       15\n",
      "4        2\n",
      "Name: count, dtype: int64\n",
      "%\n",
      "0      97158\n",
      "1        852\n",
      "2        670\n",
      "3        430\n",
      "6        351\n",
      "       ...  \n",
      "55         1\n",
      "87         1\n",
      "34         1\n",
      "134        1\n",
      "38         1\n",
      "Name: count, Length: 61, dtype: int64\n",
      "&\n",
      "0     92407\n",
      "1      4448\n",
      "2      1317\n",
      "3       555\n",
      "4       211\n",
      "5       186\n",
      "10      173\n",
      "6       159\n",
      "9       155\n",
      "8       110\n",
      "7        82\n",
      "12       78\n",
      "13       58\n",
      "11       36\n",
      "14        9\n",
      "18        4\n",
      "27        3\n",
      "34        2\n",
      "19        2\n",
      "16        2\n",
      "17        1\n",
      "20        1\n",
      "25        1\n",
      "Name: count, dtype: int64\n",
      "*\n",
      "0     99984\n",
      "2         6\n",
      "1         6\n",
      "3         2\n",
      "4         1\n",
      "14        1\n",
      "Name: count, dtype: int64\n",
      "+\n",
      "0     98116\n",
      "1       932\n",
      "2       306\n",
      "6       170\n",
      "3       161\n",
      "4       102\n",
      "5        65\n",
      "7        46\n",
      "9        33\n",
      "8        31\n",
      "10       11\n",
      "11        7\n",
      "18        5\n",
      "12        2\n",
      "13        2\n",
      "14        2\n",
      "21        2\n",
      "15        2\n",
      "37        1\n",
      "27        1\n",
      "17        1\n",
      "16        1\n",
      "50        1\n",
      "Name: count, dtype: int64\n",
      "/\n",
      "1     31504\n",
      "2     26700\n",
      "3     18754\n",
      "4      9489\n",
      "5      6083\n",
      "6      2715\n",
      "0      1438\n",
      "7      1309\n",
      "8      1187\n",
      "9       256\n",
      "10      224\n",
      "11      117\n",
      "12       93\n",
      "13       64\n",
      "16       19\n",
      "14       17\n",
      "15       10\n",
      "22        6\n",
      "17        4\n",
      "18        3\n",
      "21        2\n",
      "19        2\n",
      "20        2\n",
      "27        1\n",
      "23        1\n",
      "Name: count, dtype: int64\n",
      ":\n",
      "0    98000\n",
      "1     1828\n",
      "2      137\n",
      "5       10\n",
      "4        9\n",
      "3        8\n",
      "9        7\n",
      "6        1\n",
      "Name: count, dtype: int64\n",
      ";\n",
      "0     96240\n",
      "1      1881\n",
      "2       725\n",
      "3       330\n",
      "4       167\n",
      "10      133\n",
      "6       125\n",
      "5       104\n",
      "9        66\n",
      "8        49\n",
      "7        46\n",
      "13       28\n",
      "12       23\n",
      "11       23\n",
      "19       14\n",
      "14        8\n",
      "26        4\n",
      "16        4\n",
      "27        3\n",
      "20        3\n",
      "15        3\n",
      "17        3\n",
      "31        2\n",
      "39        2\n",
      "24        2\n",
      "18        2\n",
      "33        2\n",
      "44        1\n",
      "29        1\n",
      "21        1\n",
      "38        1\n",
      "43        1\n",
      "23        1\n",
      "40        1\n",
      "37        1\n",
      "Name: count, dtype: int64\n",
      "=\n",
      "0     83391\n",
      "1      8937\n",
      "2      4171\n",
      "3      1525\n",
      "4       623\n",
      "6       318\n",
      "5       290\n",
      "9       170\n",
      "7       169\n",
      "10      124\n",
      "8        86\n",
      "11       80\n",
      "13       44\n",
      "12       36\n",
      "14       20\n",
      "27        3\n",
      "19        3\n",
      "16        2\n",
      "15        2\n",
      "34        2\n",
      "18        1\n",
      "22        1\n",
      "26        1\n",
      "17        1\n",
      "Name: count, dtype: int64\n",
      "?\n",
      "0     83215\n",
      "1     15012\n",
      "2      1697\n",
      "3        48\n",
      "4        19\n",
      "6         2\n",
      "13        2\n",
      "5         2\n",
      "12        1\n",
      "15        1\n",
      "7         1\n",
      "Name: count, dtype: int64\n",
      "@\n",
      "0    99398\n",
      "1      598\n",
      "2        3\n",
      "4        1\n",
      "Name: count, dtype: int64\n",
      "//\n",
      "0    99383\n",
      "1      544\n",
      "2       70\n",
      "3        3\n",
      "Name: count, dtype: int64\n",
      "~\n",
      "0    98475\n",
      "1     1509\n",
      "2       11\n",
      "3        4\n",
      "4        1\n",
      "Name: count, dtype: int64\n"
     ]
    }
   ],
   "source": [
    "import re\n",
    "\n",
    "def valid_ip(url):\n",
    "    ipv4 = \"^((25[0-5]|2[0-4][0-9]|1[0-9][0-9]|[1-9]?[0-9])\\.){3}(25[0-5]|2[0-4][0-9]|1[0-9][0-9]|[1-9]?[0-9])$\"\n",
    "    ipv6 = \"((([0-9a-fA-F]){1,4})\\\\:){7}\"\\\n",
    "            \"([0-9a-fA-F]){1,4}\"\n",
    "    return 1 if re.search(ipv4, url) or re.search(ipv6, url) else 0\n",
    "\n",
    "symbols = ['#', '$', '%', '&', '*', '+', '/', ':', ';', '=', '?', '@', '//', '~']\n",
    "\n",
    "df['URL'] = [re.sub('www.','',url) for url in df['URL']]\n",
    "df['Length'] = [len(url) for url in df['URL']]\n",
    "df['Is_IP'] = [valid_ip(url) for url in df['URL']]\n",
    "for symbol in symbols:\n",
    "    df[symbol] = [url.count(symbol) for url in df['URL']]\n",
    "\n",
    "df.head()"
   ]
  },
  {
   "cell_type": "markdown",
   "metadata": {},
   "source": [
    "### Check Shortening Service"
   ]
  },
  {
   "cell_type": "code",
   "execution_count": 53,
   "metadata": {},
   "outputs": [],
   "source": [
    "def is_shortened(URL):\n",
    "    match = re.search('bit\\.ly|goo\\.gl|shorte\\.st|go2l\\.ink|x\\.co|ow\\.ly|t\\.co|tinyurl|tr\\.im|is\\.gd|cli\\.gs|'\n",
    "                      'yfrog\\.com|migre\\.me|ff\\.im|tiny\\.cc|url4\\.eu|twit\\.ac|su\\.pr|twurl\\.nl|snipurl\\.com|'\n",
    "                      'short\\.to|BudURL\\.com|ping\\.fm|post\\.ly|Just\\.as|bkite\\.com|snipr\\.com|fic\\.kr|loopt\\.us|'\n",
    "                      'doiop\\.com|short\\.ie|kl\\.am|wp\\.me|rubyurl\\.com|om\\.ly|to\\.ly|bit\\.do|t\\.co|lnkd\\.in|'\n",
    "                      'db\\.tt|qr\\.ae|adf\\.ly|goo\\.gl|bitly\\.com|cur\\.lv|tinyurl\\.com|ow\\.ly|bit\\.ly|ity\\.im|'\n",
    "                      'q\\.gs|is\\.gd|po\\.st|bc\\.vc|twitthis\\.com|u\\.to|j\\.mp|buzurl\\.com|cutt\\.us|u\\.bb|yourls\\.org|'\n",
    "                      'x\\.co|prettylinkpro\\.com|scrnch\\.me|filoops\\.info|vzturl\\.com|qr\\.net|1url\\.com|tweez\\.me|v\\.gd|'\n",
    "                      'tr\\.im|link\\.zip\\.net',\n",
    "                      URL)\n",
    "    return 1 if match else 0\n",
    "\n",
    "df['is_Shorted'] = [is_shortened(url) for url in df['URL']]\n",
    "df.head()"
   ]
  },
  {
   "cell_type": "markdown",
   "metadata": {},
   "source": [
    "### Hostname and Scheme Check"
   ]
  },
  {
   "cell_type": "code",
   "execution_count": 74,
   "metadata": {},
   "outputs": [
    {
     "data": {
      "text/plain": [
       "1"
      ]
     },
     "execution_count": 74,
     "metadata": {},
     "output_type": "execute_result"
    }
   ],
   "source": [
    "import urllib\n",
    "\n",
    "def check_scheme(url):\n",
    "    return 1 if urllib.parse.urlparse(url).scheme in ['http','https'] else 0\n",
    "    \n",
    "def check_hostname(url):\n",
    "    return 1 if urllib.parse.urlparse(url).hostname else 0\n",
    "\n",
    "df['is_Host'] = [check_hostname(url) for url in df['URL']]\n",
    "df['is_HTTP'] = [check_scheme(url) for url in df['URL']]"
   ]
  }
 ],
 "metadata": {
  "kernelspec": {
   "display_name": "Python 3",
   "language": "python",
   "name": "python3"
  },
  "language_info": {
   "codemirror_mode": {
    "name": "ipython",
    "version": 3
   },
   "file_extension": ".py",
   "mimetype": "text/x-python",
   "name": "python",
   "nbconvert_exporter": "python",
   "pygments_lexer": "ipython3",
   "version": "3.11.8"
  }
 },
 "nbformat": 4,
 "nbformat_minor": 2
}
